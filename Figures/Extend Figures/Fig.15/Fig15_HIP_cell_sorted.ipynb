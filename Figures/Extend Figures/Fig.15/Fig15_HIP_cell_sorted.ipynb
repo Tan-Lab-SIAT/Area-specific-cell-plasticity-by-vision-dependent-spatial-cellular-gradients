{
 "cells": [
  {
   "cell_type": "code",
   "execution_count": 2,
   "id": "3d242637-e7e9-413e-afc6-ffc4091a2a43",
   "metadata": {},
   "outputs": [],
   "source": [
    "import numpy as np\n",
    "import anndata as ad\n",
    "import scanpy as sc\n",
    "import pandas as pd\n",
    "import matplotlib.pyplot as plt\n",
    "import anndata\n",
    "import seaborn as sns\n",
    "import scvelo as scv \n",
    "from scipy.stats import zscore\n",
    "from dtne import *"
   ]
  },
  {
   "cell_type": "code",
   "execution_count": 62,
   "id": "1dfb525a-d611-42fa-bae2-dfd5cc06d768",
   "metadata": {},
   "outputs": [
    {
     "name": "stdout",
     "output_type": "stream",
     "text": [
      "PDF saved as F:/spatial/HIP/figures/DG_HIP_NR_sorted_dpt_pseudotime_cortical.pdf\n"
     ]
    }
   ],
   "source": [
    "# 将数据导出为 DataFrame，方便操作\n",
    "df = filtered_NR_DG_PC1.obs[['dpt_pseudotime', 'digital_layer']].copy()\n",
    "\n",
    "# 按照 dpt_pseudotime 进行排序\n",
    "df_sorted = df.sort_values(by='dpt_pseudotime')\n",
    "\n",
    "# 创建一个黑白的 'Greys' 颜色映射用于图像\n",
    "cmap_image = plt.cm.Greys  # 用于图像的黑白颜色映射\n",
    "norm_image = mcolors.Normalize(vmin=df_sorted['digital_layer'].min(), vmax=df_sorted['digital_layer'].max())\n",
    "colors_image = cmap_image(norm_image(df_sorted['digital_layer']))\n",
    "\n",
    "# 正确地使用 colors_image 来 reshape\n",
    "colors_arr = np.array(colors_image)[::-1]        # 转成数组并反转顺序\n",
    "color_bar_image = colors_arr.reshape(1, -1, 4)   # 变成 (1, N, 4)\n",
    "\n",
    "# 绘制条状图\n",
    "fig, ax = plt.subplots(figsize=(12, 1))  # 调整宽度和高度以获得更细的条\n",
    "im = ax.imshow(color_bar_image, aspect=\"auto\")  # 确保颜色条为黑白\n",
    "ax.axis(\"off\")  # 去掉轴\n",
    "plt.title(\"NR cells spatial depth along Pseudotime\")\n",
    "\n",
    "# 创建反转的颜色映射用于图例\n",
    "cmap_colorbar = plt.cm.Greys  # 使用 'Greys_r' 反转颜色映射\n",
    "cbar = fig.colorbar(plt.cm.ScalarMappable(norm=norm_image, cmap=cmap_colorbar), ax=ax, orientation=\"horizontal\", pad=0.2)\n",
    "cbar.set_label('Spatial Depth')  # 自定义颜色条标签\n",
    "cbar.set_ticks([])  # 去掉颜色条上的数值\n",
    "\n",
    "# 添加左右侧标签\n",
    "cbar.ax.text(-0.15, 0.25, 'Dorsal', ha='center', va='center', transform=cbar.ax.transAxes, color='black')\n",
    "cbar.ax.text(1.15, 0.25, 'Ventral', ha='center', va='center', transform=cbar.ax.transAxes, color='black')\n",
    "\n",
    "#plt.show()\n",
    "output_path = \"F:/spatial/HIP/figures/DG_HIP_NR_sorted_dpt_pseudotime_cortical.pdf\"\n",
    "plt.savefig(output_path, format='pdf', bbox_inches='tight')\n",
    "plt.close()\n",
    "print(f\"PDF saved as {output_path}\")"
   ]
  },
  {
   "cell_type": "code",
   "execution_count": 67,
   "id": "9944704c-4465-42b3-ab6a-9138790d2c77",
   "metadata": {},
   "outputs": [
    {
     "name": "stdout",
     "output_type": "stream",
     "text": [
      "PDF saved as F:/spatial/HIP/figures/DG_HIP_DR_sorted_dpt_pseudotime_cortical.pdf\n"
     ]
    }
   ],
   "source": [
    "# 将数据导出为 DataFrame，方便操作\n",
    "df = filtered_DR_DG_PC1.obs[['dpt_pseudotime', 'digital_layer']].copy()\n",
    "\n",
    "# 按照 dpt_pseudotime 进行排序\n",
    "df_sorted = df.sort_values(by='dpt_pseudotime')\n",
    "\n",
    "# 创建一个黑白的 'Greys' 颜色映射用于图像\n",
    "cmap_image = plt.cm.Greys  # 用于图像的黑白颜色映射\n",
    "norm_image = mcolors.Normalize(vmin=df_sorted['digital_layer'].min(), vmax=df_sorted['digital_layer'].max())\n",
    "colors_image = cmap_image(norm_image(df_sorted['digital_layer']))\n",
    "\n",
    "# 正确地使用 colors_image 来 reshape\n",
    "colors_arr = np.array(colors_image)[::-1]        # 转成数组并反转顺序\n",
    "color_bar_image = colors_arr.reshape(1, -1, 4)   # 变成 (1, N, 4)\n",
    "\n",
    "# 绘制条状图\n",
    "fig, ax = plt.subplots(figsize=(12, 1))  # 调整宽度和高度以获得更细的条\n",
    "im = ax.imshow(color_bar_image, aspect=\"auto\")  # 确保颜色条为黑白\n",
    "ax.axis(\"off\")  # 去掉轴\n",
    "plt.title(\"DR cells spatial depth along Pseudotime\")\n",
    "\n",
    "# 创建反转的颜色映射用于图例\n",
    "cmap_colorbar = plt.cm.Greys  # 使用 'Greys' 反转颜色映射\n",
    "cbar = fig.colorbar(plt.cm.ScalarMappable(norm=norm_image, cmap=cmap_colorbar), ax=ax, orientation=\"horizontal\", pad=0.2)\n",
    "cbar.set_label('Spatial Depth')  # 自定义颜色条标签\n",
    "cbar.set_ticks([])  # 去掉颜色条上的数值\n",
    "\n",
    "# 添加左右侧标签\n",
    "cbar.ax.text(-0.15, 0.25, 'Dorsal', ha='center', va='center', transform=cbar.ax.transAxes, color='black')\n",
    "cbar.ax.text(1.15, 0.25, 'Ventral', ha='center', va='center', transform=cbar.ax.transAxes, color='black')\n",
    "\n",
    "#plt.show()\n",
    "output_path = \"F:/spatial/HIP/figures/DG_HIP_DR_sorted_dpt_pseudotime_cortical.pdf\"\n",
    "plt.savefig(output_path, format='pdf', bbox_inches='tight')\n",
    "plt.close()\n",
    "print(f\"PDF saved as {output_path}\")"
   ]
  }
 ],
 "metadata": {
  "kernelspec": {
   "display_name": "Python 3 (ipykernel)",
   "language": "python",
   "name": "python3"
  },
  "language_info": {
   "codemirror_mode": {
    "name": "ipython",
    "version": 3
   },
   "file_extension": ".py",
   "mimetype": "text/x-python",
   "name": "python",
   "nbconvert_exporter": "python",
   "pygments_lexer": "ipython3",
   "version": "3.10.10"
  }
 },
 "nbformat": 4,
 "nbformat_minor": 5
}
