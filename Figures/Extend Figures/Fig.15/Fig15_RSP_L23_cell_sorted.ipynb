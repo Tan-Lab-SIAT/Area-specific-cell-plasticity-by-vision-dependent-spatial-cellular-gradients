{
 "cells": [
  {
   "cell_type": "code",
   "execution_count": 2,
   "id": "c499ad70-9c28-433b-acd4-711f713d4d3d",
   "metadata": {},
   "outputs": [],
   "source": [
    "import numpy as np\n",
    "import anndata as ad\n",
    "import scanpy as sc\n",
    "import pandas as pd\n",
    "import matplotlib.pyplot as plt\n",
    "import anndata\n",
    "import seaborn as sns\n",
    "import scvelo as scv \n",
    "from scipy.stats import zscore\n",
    "from dtne import *"
   ]
  },
  {
   "cell_type": "code",
   "execution_count": 6,
   "id": "d2c12ea2-16ec-4c7d-a971-85b4e05753e5",
   "metadata": {},
   "outputs": [
    {
     "name": "stdout",
     "output_type": "stream",
     "text": [
      "PDF saved as F:/spatial/RSP/figures/RSP_NR_sorted_dpt_pseudotime_cortical.pdf\n"
     ]
    }
   ],
   "source": [
    "\n",
    "\n",
    "# 将数据导出为 DataFrame，方便操作\n",
    "df = filtered_NR_l23_PC1.obs[['dpt_pseudotime', 'digital_layer']].copy()\n",
    "\n",
    "# 按照 dpt_pseudotime 进行排序\n",
    "df_sorted = df.sort_values(by='dpt_pseudotime')\n",
    "\n",
    "# 创建一个黑白颜色映射\n",
    "cmap = plt.cm.Greys  # 使用黑白的 'Greys' 颜色映射\n",
    "norm = mcolors.Normalize(vmin=df_sorted['digital_layer'].min(), vmax=df_sorted['digital_layer'].max())\n",
    "colors = cmap(norm(df_sorted['digital_layer']))\n",
    "\n",
    "# 将颜色数组转换为二维数组以用于绘制条状图\n",
    "color_bar = colors.reshape(1, -1, 4)  # 高度为1，宽度为细胞数量，4是RGBA通道数\n",
    "\n",
    "# 绘制条状图和颜色图例\n",
    "fig, ax = plt.subplots(figsize=(12, 1))  # 调整宽度和高度以获得更细的条\n",
    "im = ax.imshow(color_bar, aspect=\"auto\")  # 确保颜色条为黑白\n",
    "ax.axis(\"off\")  # 去掉轴\n",
    "plt.title(\"NR cortical depth along DPT Pseudotime\")\n",
    "\n",
    "# 添加颜色条作为图例，并去掉数值显示\n",
    "cbar = fig.colorbar(plt.cm.ScalarMappable(norm=norm, cmap=cmap), ax=ax, orientation=\"horizontal\", pad=0.2)\n",
    "cbar.set_label('Cortical Depth')  # 自定义颜色条标签\n",
    "cbar.set_ticks([])  # 去掉颜色条上的数值\n",
    "# 添加左右侧标签\n",
    "cbar.ax.text(-0.25, 0.5, 'Upper Layer', ha='center', va='center', transform=cbar.ax.transAxes, color='black')\n",
    "cbar.ax.text(1.25, 0.5, 'Deep Layer', ha='center', va='center', transform=cbar.ax.transAxes, color='black')\n",
    "\n",
    "#plt.show()\n",
    "output_path = \"F:/spatial/RSP/figures/RSP_NR_sorted_dpt_pseudotime_cortical.pdf\"\n",
    "plt.savefig(output_path, format='pdf', bbox_inches='tight')\n",
    "plt.close()\n",
    "\n",
    "print(f\"PDF saved as {output_path}\")"
   ]
  },
  {
   "cell_type": "code",
   "execution_count": 10,
   "id": "d10cb488-a534-44bf-a5d4-37efd0485416",
   "metadata": {},
   "outputs": [
    {
     "name": "stdout",
     "output_type": "stream",
     "text": [
      "PDF saved as F:/spatial/RSP/figures/RSP_DR_sorted_dpt_pseudotime_cortical.pdf\n"
     ]
    }
   ],
   "source": [
    "\n",
    "# 将数据导出为 DataFrame，方便操作\n",
    "df = filtered_DR_l23_PC1.obs[['dpt_pseudotime', 'digital_layer']].copy()\n",
    "\n",
    "# 按照 dpt_pseudotime 进行排序\n",
    "df_sorted = df.sort_values(by='dpt_pseudotime')\n",
    "\n",
    "# 创建一个黑白颜色映射\n",
    "cmap = plt.cm.Greys  # 使用黑白的 'Greys' 颜色映射\n",
    "norm = mcolors.Normalize(vmin=df_sorted['digital_layer'].min(), vmax=df_sorted['digital_layer'].max())\n",
    "colors = cmap(norm(df_sorted['digital_layer']))\n",
    "\n",
    "# 将颜色数组转换为二维数组以用于绘制条状图\n",
    "color_bar = colors.reshape(1, -1, 4)  # 高度为1，宽度为细胞数量，4是RGBA通道数\n",
    "\n",
    "# 绘制条状图和颜色图例\n",
    "fig, ax = plt.subplots(figsize=(12, 1))  # 调整宽度和高度以获得更细的条\n",
    "im = ax.imshow(color_bar, aspect=\"auto\")  # 确保颜色条为黑白\n",
    "ax.axis(\"off\")  # 去掉轴\n",
    "plt.title(\"DR cortical depth along DPT Pseudotime\")\n",
    "\n",
    "# 添加颜色条作为图例，并去掉数值显示\n",
    "cbar = fig.colorbar(plt.cm.ScalarMappable(norm=norm, cmap=cmap), ax=ax, orientation=\"horizontal\", pad=0.2)\n",
    "cbar.set_label('Cortical Depth')  # 自定义颜色条标签\n",
    "cbar.set_ticks([])  # 去掉颜色条上的数值\n",
    "# 添加左右侧标签\n",
    "cbar.ax.text(-0.25, 0.5, 'Upper Layer', ha='center', va='center', transform=cbar.ax.transAxes, color='black')\n",
    "cbar.ax.text(1.25, 0.5, 'Deep Layer', ha='center', va='center', transform=cbar.ax.transAxes, color='black')\n",
    "\n",
    "#plt.show()\n",
    "output_path = \"F:/spatial/RSP/figures/RSP_DR_sorted_dpt_pseudotime_cortical.pdf\"\n",
    "plt.savefig(output_path, format='pdf', bbox_inches='tight')\n",
    "plt.close()\n",
    "\n",
    "print(f\"PDF saved as {output_path}\")"
   ]
  }
 ],
 "metadata": {
  "kernelspec": {
   "display_name": "Python 3 (ipykernel)",
   "language": "python",
   "name": "python3"
  },
  "language_info": {
   "codemirror_mode": {
    "name": "ipython",
    "version": 3
   },
   "file_extension": ".py",
   "mimetype": "text/x-python",
   "name": "python",
   "nbconvert_exporter": "python",
   "pygments_lexer": "ipython3",
   "version": "3.10.10"
  }
 },
 "nbformat": 4,
 "nbformat_minor": 5
}
