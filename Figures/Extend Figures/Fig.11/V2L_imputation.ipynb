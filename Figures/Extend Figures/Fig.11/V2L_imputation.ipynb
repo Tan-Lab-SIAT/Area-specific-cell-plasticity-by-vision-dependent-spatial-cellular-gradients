{
 "cells": [
  {
   "cell_type": "code",
   "execution_count": 3,
   "id": "3b0440e2-4022-4828-b1be-43fe07859936",
   "metadata": {},
   "outputs": [],
   "source": [
    "DR2_2r=sc.read_h5ad('DR2_2r.h5ad')\n",
    "NR2_2r=sc.read_h5ad('NR2_2r.h5ad')\n",
    "DR1_2r=sc.read_h5ad('DR1_2r.h5ad')\n",
    "NR1_2r=sc.read_h5ad('NR1_2r.h5ad')"
   ]
  },
  {
   "cell_type": "code",
   "execution_count": 6,
   "id": "de104aff-0f83-4ec1-8cbb-297eae156f6c",
   "metadata": {},
   "outputs": [
    {
     "name": "stdout",
     "output_type": "stream",
     "text": [
      "PDF saved as F:/spatial/V2L/Figure/V2L_imputation.pdf\n"
     ]
    }
   ],
   "source": [
    "import numpy as np\n",
    "import matplotlib.pyplot as plt\n",
    "from scipy.stats import zscore\n",
    "\n",
    "# 目标基因列表\n",
    "target_genes = ['Syt17','Stard8','Whrn','Rorb','Syt2','Tle4','Syt6']\n",
    "\n",
    "slices_dict = {\n",
    "    'NR1_2r': NR1_2r,\n",
    "    'NR2_2r': NR2_2r,\n",
    "    'DR1_2r': DR1_2r,\n",
    "    'DR2_2r': DR2_2r\n",
    "}\n",
    "\n",
    "# 图形布局：行数 = 4（切片数），列数 = 9（目标基因数）\n",
    "n_rows = len(slices_dict)\n",
    "n_cols = len(target_genes)\n",
    "fig, axs = plt.subplots(n_rows, n_cols, figsize=(n_cols * 3, n_rows * 1.5), constrained_layout=True)\n",
    "\n",
    "# 遍历每个切片（行）和每个目标基因（列）\n",
    "for i, (slice_name, adata_slice) in enumerate(slices_dict.items()):\n",
    "    subset = adata_slice[adata_slice.obs['digital_layer'].between(1.4, 10)]\n",
    "    \n",
    "    # 使用旋转后的坐标，假设存储在 obsm['X_rotated']\n",
    "    coords = subset.obsm['X_rotated']\n",
    "    x_rot = coords[:, 0]\n",
    "    y_rot = coords[:, 1]\n",
    "    \n",
    "    for j, gene in enumerate(target_genes):\n",
    "        ax = axs[i, j]\n",
    "        # 检查目标基因是否存在\n",
    "        if gene not in subset.var_names:\n",
    "            ax.text(0.5, 0.5, f\"{gene}\\n不存在\", ha=\"center\", va=\"center\", fontsize=8)\n",
    "            ax.axis(\"off\")\n",
    "            continue\n",
    "\n",
    "        # 获取该基因在 'imputed' 层的表达数据，并转换为一维数组\n",
    "        expr = subset[:, gene].layers['imputed'].toarray().flatten()\n",
    "        # 标准化：先 Z-score，再 Min-Max 归一化到 [0, 1]\n",
    "        expr_z = zscore(expr)\n",
    "        expr_norm = (expr_z - expr_z.min()) / (expr_z.max() - expr_z.min())\n",
    "        \n",
    "        # 绘制散点图，颜色根据归一化后的表达值\n",
    "        sc = ax.scatter(x_rot, y_rot, c=expr_norm, cmap='magma_r', s=0.5)\n",
    "        #ax.set_title(f\"{slice_name}\\n{gene}\", fontsize=8)\n",
    "        ax.axis(\"off\")\n",
    "        # 为每个子图添加独立的竖直 colorbar\n",
    "        #cbar = fig.colorbar(sc, ax=ax, orientation='vertical', fraction=0.05, pad=0.05)\n",
    "        #cbar.ax.tick_params(labelsize=6)\n",
    "\n",
    "plt.suptitle(\"Rotated Spatial Expression of Target Genes\", fontsize=16, y=1.02)\n",
    "#plt.show()\n",
    "output_path = \"F:/spatial/V2L/Figure/V2L_imputation.pdf\"\n",
    "plt.savefig(output_path, format='pdf', bbox_inches='tight')\n",
    "plt.close()\n",
    "print(f\"PDF saved as {output_path}\")\n"
   ]
  }
 ],
 "metadata": {
  "kernelspec": {
   "display_name": "Python 3 (ipykernel)",
   "language": "python",
   "name": "python3"
  },
  "language_info": {
   "codemirror_mode": {
    "name": "ipython",
    "version": 3
   },
   "file_extension": ".py",
   "mimetype": "text/x-python",
   "name": "python",
   "nbconvert_exporter": "python",
   "pygments_lexer": "ipython3",
   "version": "3.10.10"
  }
 },
 "nbformat": 4,
 "nbformat_minor": 5
}
