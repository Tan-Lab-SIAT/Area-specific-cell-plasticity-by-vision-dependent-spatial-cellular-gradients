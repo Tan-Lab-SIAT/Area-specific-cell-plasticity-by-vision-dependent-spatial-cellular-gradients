{
 "cells": [
  {
   "cell_type": "code",
   "execution_count": null,
   "id": "e304fb04-f017-438e-a789-48dda42928b4",
   "metadata": {},
   "outputs": [],
   "source": [
    "import anndata as ad\n",
    "import numpy as np\n",
    "import scanpy as sc\n",
    "import pandas as pd\n",
    "import openpyxl\n",
    "import csv\n",
    "import matplotlib\n",
    "import scipy.stats as sp\n",
    "import xgboost as xgb\n",
    "import pickle\n",
    "from sklearn.metrics import confusion_matrix, adjusted_rand_score\n",
    "import matplotlib.pyplot as plt\n",
    "from matplotlib import gridspec\n",
    "import scrublet as scr\n",
    "import seaborn as sns"
   ]
  },
  {
   "cell_type": "code",
   "execution_count": null,
   "id": "95ec71dc-f68e-472b-8a4c-fdc0848cb93a",
   "metadata": {},
   "outputs": [],
   "source": [
    "#N1 SC\n",
    "N1_SC = sc.read_10x_mtx('H:/data1/N1-SC/outs/filtered_feature_bc_matrix',var_names='gene_symbols', cache=False)\n",
    "print(N1_SC)\n",
    "N1_SC.write_h5ad('F:/single cell data/SC/N1-SC.h5ad')"
   ]
  },
  {
   "cell_type": "code",
   "execution_count": null,
   "id": "4b8a34ad-6001-4a8c-9557-32cb873811aa",
   "metadata": {},
   "outputs": [],
   "source": [
    "N1_SC=sc.read_h5ad('F:/single cell data/SC/N1-SC.h5ad')\n",
    "sc.pp.filter_cells(N1_SC, min_genes=200)#cell must have 200 non-zero-count features to stay\n",
    "sc.pp.filter_genes(N1_SC, min_cells= 8)#gene must be in 5 cells to stay\n",
    "mito_genes = N1_SC.var_names.str.startswith('mt-')# for each cell compute fraction of counts in mito genes vs. all genes\n",
    "N1_SC.obs['percent_mito'] = np.sum(N1_SC[:, mito_genes].X, axis =1)/np.sum(N1_SC.X, axis=1) # add each cell's fraction mito accounts as an obs annotation\n",
    "N1_SC.obs['n_counts'] =N1_SC.X.sum(axis=1) # add the total counts per cell as observations-annotation\n",
    "N1_SC = N1_SC[N1_SC.obs.percent_mito < 0.01,:]\n",
    "N1_SC = N1_SC[N1_SC.obs['n_genes']< 4000,:]\n",
    "N1_SC = N1_SC[N1_SC.obs['n_counts'] < 10000, :]"
   ]
  },
  {
   "cell_type": "code",
   "execution_count": null,
   "id": "dfd96baf-c6e4-47a3-8c78-2d7924030b2f",
   "metadata": {},
   "outputs": [],
   "source": [
    "#Visualize count matrix before filtering\n",
    "sc.pl.violin(N1_SC, ['n_genes', 'n_counts','percent_mito'], jitter =0.4, multi_panel= True)\n",
    "sc.pl.scatter(N1_SC, x= 'n_counts', y= 'percent_mito')\n",
    "sc.pl.scatter(N1_SC, x= 'n_counts', y= 'n_genes')\n",
    "counts_matrix = N1_SC.X\n",
    "scrub = scr.Scrublet(counts_matrix, expected_doublet_rate= 0.06)\n",
    "doublet_scores, precdicted_doublets = scrub.scrub_doublets(min_cells= 8, min_gene_variability_pctl= 85, n_prin_comps=40)\n",
    "N1_SC.obs['Doublet'] = scrub.predicted_doublets_\n",
    "N1_SC.obs['Doublet Score'] = scrub.doublet_scores_obs_\n",
    "N1_SC = N1_SC[N1_SC.obs['Doublet']== False,:]\n",
    "N1_SC.write_h5ad('F:/single cell data/SC/N1-SC_filter.h5ad')\n",
    "print(N1_SC)"
   ]
  },
  {
   "cell_type": "code",
   "execution_count": null,
   "id": "618cdeea-067c-46f2-9166-dca629377be2",
   "metadata": {},
   "outputs": [],
   "source": [
    "# N2-SC\n",
    "N2_SC = sc.read_10x_mtx('H:/data1/N2-SC/outs/filtered_feature_bc_matrix',var_names='gene_symbols', cache=False)\n",
    "print(N2_SC)\n",
    "N2_SC.write_h5ad('F:/single cell data/SC/N2-SC.h5ad')"
   ]
  },
  {
   "cell_type": "code",
   "execution_count": null,
   "id": "ba8a4772-eeb4-414a-bfc8-1129122af172",
   "metadata": {},
   "outputs": [],
   "source": [
    "sc.pp.filter_cells(N2_SC, min_genes=200)#cell must have 200 non-zero-count features to stay\n",
    "sc.pp.filter_genes(N2_SC, min_cells= 8)#gene must be in 5 cells to stay\n",
    "mito_genes = N2_SC.var_names.str.startswith('mt-')# for each cell compute fraction of counts in mito genes vs. all genes\n",
    "N2_SC.obs['percent_mito'] = np.sum(N2_SC[:, mito_genes].X, axis =1)/np.sum(N2_SC.X, axis=1) # add each cell's fraction mito accounts as an obs annotation\n",
    "N2_SC.obs['n_counts'] =N2_SC.X.sum(axis=1) # add the total counts per cell as observations-annotation\n",
    "N2_SC = N2_SC[N2_SC.obs.percent_mito < 0.01,:]\n",
    "N2_SC = N2_SC[N2_SC.obs['n_genes']< 4000,:]\n",
    "N2_SC = N2_SC[N2_SC.obs['n_counts'] < 10000, :]\n",
    "print(N2_SC)"
   ]
  },
  {
   "cell_type": "code",
   "execution_count": null,
   "id": "e74a2b58-9cc0-48e2-a8ad-e146917b60f1",
   "metadata": {},
   "outputs": [],
   "source": [
    "sc.pl.violin(N2_SC, ['n_genes', 'n_counts','percent_mito'], jitter =0.4, multi_panel= True)\n",
    "sc.pl.scatter(N2_SC, x= 'n_counts', y= 'percent_mito')\n",
    "sc.pl.scatter(N2_SC, x= 'n_counts', y= 'n_genes')\n",
    "counts_matrix = N2_SC.X\n",
    "scrub = scr.Scrublet(counts_matrix, expected_doublet_rate= 0.06)\n",
    "doublet_scores, precdicted_doublets = scrub.scrub_doublets(min_cells= 8, min_gene_variability_pctl= 85, n_prin_comps=40)\n",
    "N2_SC.obs['Doublet'] = scrub.predicted_doublets_\n",
    "N2_SC.obs['Doublet Score'] = scrub.doublet_scores_obs_\n",
    "N2_SC = N2_SC[N2_SC.obs['Doublet']== False,:]\n",
    "N2_SC.write_h5ad('F:/single cell data/SC/N2-SC_filter.h5ad')\n",
    "print(N2_SC)"
   ]
  },
  {
   "cell_type": "code",
   "execution_count": null,
   "id": "38d12c95-022a-4de3-b096-38e29de6db6d",
   "metadata": {},
   "outputs": [],
   "source": [
    "#N1_SC&N2_SC\n",
    "N1_SC=sc.read_h5ad('F:/single cell data/SC/N1-SC_filter.h5ad')\n",
    "N2_SC=sc.read_h5ad('F:/single cell data/SC/N2-SC_filter.h5ad')\n",
    "N_SC =sc.AnnData.concatenate(N1_SC, N2_SC,batch_categories=['N1_SC','N2_SC'],batch_key='sample')\n",
    "print(N_SC)"
   ]
  },
  {
   "cell_type": "code",
   "execution_count": null,
   "id": "be1798a7-357d-4f7d-a62d-261e9881042a",
   "metadata": {},
   "outputs": [],
   "source": [
    "sc.pp.normalize_per_cell(N_SC,counts_per_cell_after= 1e4)\n",
    "sc.pp.log1p(N_SC)\n",
    "sc.pp.highly_variable_genes(N_SC, min_mean=0.0125, max_mean=3, min_disp=0.5)\n",
    "sc.tl.pca(N_SC,svd_solver='arpack')\n",
    "sc.external.pp.harmony_integrate(N_SC,key='sample')\n",
    "sc.pp.neighbors(N_SC,n_neighbors=25, n_pcs=40,use_rep='X_pca_harmony')\n",
    "sc.tl.leiden(N_SC,resolution=1.5)\n",
    "sc.tl.umap(N_SC)\n",
    "sc.pl.umap(N_SC, color='sample',save='N_SC_harony_sample.svg')\n",
    "N_SC.write_h5ad('F:/single cell data/SC/N_SC_HVG.h5ad')"
   ]
  },
  {
   "cell_type": "code",
   "execution_count": null,
   "id": "5b551dac-be7e-42fd-ac0c-b36496e7f326",
   "metadata": {},
   "outputs": [],
   "source": [
    "N_SC=sc.read_h5ad('F:/single cell data/SC/N_SC_HVG.h5ad')\n",
    "N_SC_leiden = N_SC.obs['leiden']\n",
    "N_SC_leiden.to_csv('F:/single cell data/SC/N_SC_leiden.csv')\n",
    "N_SC=sc.read_h5ad('F:/single cell data/SC/N_SC_HVG.h5ad')\n",
    "N_SC=sc.read_h5ad('F:/single cell data/SC/N_SC_HVG.h5ad')\n",
    "presubclass = pd.read_csv('F:/single cell data/SC/N_SC_leiden_presubclass.csv',index_col='cell_id')\n",
    "preclass = pd.read_csv('F:/single cell data/SC/N_SC_leiden_preclass.csv',index_col='cell_id')\n",
    "N_SC.obs['presubclass'] = presubclass\n",
    "N_SC.obs['preclass'] = preclass\n",
    "N_SC.write_h5ad('F:/single cell data/SC/N_SC_pre.h5ad')\n",
    "sc.pl.umap(N_SC, color='presubclass', groups='PAG', save='N_SC_pre_PAG.svg')"
   ]
  },
  {
   "cell_type": "code",
   "execution_count": null,
   "id": "7853a3a6-d079-4dca-8f7f-c59bc2a749b4",
   "metadata": {},
   "outputs": [],
   "source": [
    "presubclass = pd.read_csv('F:/single cell data/SC/N_SC_leiden_presubclass.csv',index_col='cell_id')\n",
    "N_SC.obs['presubclass'] = presubclass\n",
    "N_SC = N_SC[N_SC.obs['leiden']!='1']\n",
    "\n",
    "N_SC.write_h5ad('F:/single cell data/SC/N_SC_NOPAG.h5ad')\n",
    "print(N_SC)\n",
    "sc.pl.umap(N_SC, color='leiden', legend_loc='on data', legend_fontsize='5', save='N_SC_NOPAG.svg')"
   ]
  },
  {
   "cell_type": "code",
   "execution_count": null,
   "id": "f6dafb54-6d4a-486e-a8e7-76e9f8d9250a",
   "metadata": {},
   "outputs": [],
   "source": [
    "N_SC=sc.read_h5ad('F:/single cell data/SC/N_SC_NOPAG.h5ad')\n",
    "cluster_dict= {0:'Oligo A',2:'Astro', 3:'SCsg Gabrr2 Gaba A',4:'SCs Dmbx1 Gaba A',5:'SCsg Pde5a Glut A',6:'SC Lef1 Otx2 Gaba',\n",
    "               7:'SC-PAG Lef1 Emx2 Gaba A',8:'SCig Foxb1 Glut A',9:'SCs Pax7 Nfia Gaba A',10:'SC Bnc2 Glut',11:'SC-PAG Lef1 Emx2 Gaba B',12:'OPC',\n",
    "               13:'Microglia',14:'SCiw Pitx2 Glut',15:'SCs Dmbx1 Gaba B',16:'SCs Pax7 Nfia Gaba B',17:'Oligo B',18:'SCsg Pde5a Glut B',19:'SCsg Pde5a Glut C',\n",
    "               20:'SCsg Gabrr2 Gaba B',21:'PAG-SC Neurod2 Meis2 Glut',22:'SCs Dmbx1 Gaba C',23:'SCig Foxb1 Glut B',24:'SCs Lef1 Gli3 Gaba A',\n",
    "               25:'SCm-PAG Cdh23 Gaba',26:'SC Tnnt1 Gli3 Gaba A',27:'SCop Sln Glut',28:'SCig Tfap2b Chrnb3 Glut A',29:'SC Otx2 Gcnt4 Gaba',\n",
    "               30:'SCs Lef1 Gli3 Gaba B',31:'SC Tnnt1 Gli3 Gaba B',32:'SCs Pax7 Nfia Gaba C',33:'SCs Dmbx1 Gaba D',34:'VLMC-ABC',35:'Oligo C',\n",
    "               36:'SCsg Gabrr2 Gaba C',37:'BAM',38:'SCig Tfap2b Chrnb3 Glut B',39:'SCs Pax7 Nfia Gaba D'}\n",
    "cluster = []\n",
    "for i in cluster_dict:cluster.append((cluster_dict[i]))\n",
    "N_SC.obs['cluster']= N_SC.obs['leiden']\n",
    "N_SC.rename_categories(key='cluster', categories=cluster)\n",
    "N_SC.write_h5ad('F:/single cell data/SC/N_SC_pre_NOPAG_cluster.h5ad')"
   ]
  },
  {
   "cell_type": "code",
   "execution_count": null,
   "id": "1426cb41-3eb1-4c4d-8bde-d5e3fb03bb2b",
   "metadata": {},
   "outputs": [],
   "source": [
    "N_SC=sc.read_h5ad('F:/single cell data/SC/N_SC_pre_NOPAG_cluster.h5ad')\n",
    "subclass =[]\n",
    "for i in range(N_SC.shape[0]):\n",
    "    if (int(N_SC.obs['leiden'][i]) in [0,17,35]):\n",
    "        subclass.append('Oligo')\n",
    "    elif (int(N_SC.obs['leiden'][i]) in [3,20,36]):\n",
    "        subclass.append('SCsg Gabrr2 Gaba')\n",
    "    elif (int(N_SC.obs['leiden'][i]) in [5,18,19]):\n",
    "        subclass.append('SCsg Pde5a Glut')\n",
    "    elif (int(N_SC.obs['leiden'][i]) in [7,11]):\n",
    "        subclass.append('SC-PAG Lef1 Emx2 Gaba')\n",
    "    elif (int(N_SC.obs['leiden'][i]) in [8,23]):\n",
    "        subclass.append('SCig Foxb1 Glut')\n",
    "    elif (int(N_SC.obs['leiden'][i]) in [28,38]):\n",
    "        subclass.append('SCig Tfap2b Chrnb3 Glut')\n",
    "    elif (int(N_SC.obs['leiden'][i]) in  [4,15,22,33]):\n",
    "        subclass.append('SCs Dmbx1 Gaba')\n",
    "    elif (int(N_SC.obs['leiden'][i]) in  [9,16,32,39]):\n",
    "        subclass.append('SCs Pax7 Nfia Gaba')\n",
    "    elif (int(N_SC.obs['leiden'][i]) in  [24,30]):\n",
    "        subclass.append('SCs Lef1 Gli3 Gaba')\n",
    "    elif (int(N_SC.obs['leiden'][i]) in  [26,31]):\n",
    "        subclass.append('SC Tnnt1 Gli3 Gaba')\n",
    "    elif (int(N_SC.obs['leiden'][i]) ==  10):\n",
    "        subclass.append('SC Bnc2 Glut')\n",
    "    elif (int(N_SC.obs['leiden'][i]) ==  12):\n",
    "        subclass.append('OPC')\n",
    "    elif (int(N_SC.obs['leiden'][i]) ==  13):\n",
    "        subclass.append('Microglia')\n",
    "    elif (int(N_SC.obs['leiden'][i]) ==  27):\n",
    "        subclass.append('SCop Sln Glut')\n",
    "    elif (int(N_SC.obs['leiden'][i]) ==  34):\n",
    "        subclass.append('VLMC-ABC')\n",
    "    elif (int(N_SC.obs['leiden'][i]) ==  37):\n",
    "        subclass.append('BAM')\n",
    "    elif (int(N_SC.obs['leiden'][i]) ==  14):\n",
    "        subclass.append('SCiw Pitx2 Glut')\n",
    "    elif (int(N_SC.obs['leiden'][i]) ==  25):\n",
    "        subclass.append('SCm-PAG Cdh23 Gaba')\n",
    "    elif (int(N_SC.obs['leiden'][i]) ==   21):\n",
    "        subclass.append('PAG-SC Neurod2 Meis2 Glut')\n",
    "    elif (int(N_SC.obs['leiden'][i]) ==  6):\n",
    "        subclass.append('SC Lef1 Otx2 Gaba')\n",
    "    elif (int(N_SC.obs['leiden'][i]) ==  29):\n",
    "        subclass.append('SC Otx2 Gcnt4 Gaba')\n",
    "    elif (int(N_SC.obs['leiden'][i]) == 2):\n",
    "        subclass.append('Astro')\n",
    "\n",
    "N_SC.obs['subclass'] = subclass\n",
    "N_SC=N_SC[N_SC.obs['subclass']!='BAM']\n",
    "N_SC.write_h5ad('F:/single cell data/SC/N_SC_pre_NOPAG_subclass.h5ad')"
   ]
  },
  {
   "cell_type": "code",
   "execution_count": null,
   "id": "a66a5838-82c0-4ca4-af9b-d6f8a0075981",
   "metadata": {},
   "outputs": [],
   "source": [
    "# D1_SC\n",
    "D1_SC = sc.read_10x_mtx('H:/data1/D1-SC/outs/filtered_feature_bc_matrix',var_names='gene_symbols', cache=False)\n",
    "print(D1_SC)\n",
    "D1_SC.write_h5ad('F:/single cell data/SC/D1-SC.h5ad')"
   ]
  },
  {
   "cell_type": "code",
   "execution_count": null,
   "id": "ce45453c-0108-4336-994c-7c3512ffa821",
   "metadata": {},
   "outputs": [],
   "source": [
    "sc.pp.filter_cells(D1_SC, min_genes=200)#cell must have 200 non-zero-count features to stay\n",
    "sc.pp.filter_genes(D1_SC, min_cells= 8)#gene must be in 5 cells to stay\n",
    "mito_genes = D1_SC.var_names.str.startswith('mt-')# for each cell compute fraction of counts in mito genes vs. all genes\n",
    "D1_SC.obs['percent_mito'] = np.sum(D1_SC[:, mito_genes].X, axis =1)/np.sum(D1_SC.X, axis=1) # add each cell's fraction mito accounts as an obs annotation\n",
    "D1_SC.obs['n_counts'] =D1_SC.X.sum(axis=1) # add the total counts per cell as observations-annotation\n",
    "D1_SC = D1_SC[D1_SC.obs.percent_mito < 0.01,:]\n",
    "D1_SC = D1_SC[D1_SC.obs['n_genes']< 4000,:]\n",
    "D1_SC = D1_SC[D1_SC.obs['n_counts'] < 10000, :]\n",
    "print(D1_SC)"
   ]
  },
  {
   "cell_type": "code",
   "execution_count": null,
   "id": "ea346c82-aa39-4c83-9b52-5b206aa1ef35",
   "metadata": {},
   "outputs": [],
   "source": [
    "#Visualize count matrix before filtering\n",
    "sc.pl.violin(D1_SC, ['n_genes', 'n_counts','percent_mito'], jitter =0.4, multi_panel= True)\n",
    "sc.pl.scatter(D1_SC, x= 'n_counts', y= 'percent_mito')\n",
    "sc.pl.scatter(D1_SC, x= 'n_counts', y= 'n_genes')\n",
    "counts_matrix = D1_SC.X\n",
    "scrub = scr.Scrublet(counts_matrix, expected_doublet_rate= 0.06)\n",
    "doublet_scores, precdicted_doublets = scrub.scrub_doublets(min_cells= 8, min_gene_variability_pctl= 85, n_prin_comps=40)\n",
    "D1_SC.obs['Doublet'] = scrub.predicted_doublets_\n",
    "D1_SC.obs['Doublet Score'] = scrub.doublet_scores_obs_\n",
    "D1_SC = D1_SC[D1_SC.obs['Doublet']== False,:]\n",
    "D1_SC.write_h5ad('F:/single cell data/SC/D1-SC_filter.h5ad')\n",
    "print(D1_SC)"
   ]
  },
  {
   "cell_type": "code",
   "execution_count": null,
   "id": "cad52994-bfa1-4f82-bc79-fb14bae398cd",
   "metadata": {},
   "outputs": [],
   "source": [
    "#D2-SC\n",
    "D2_SC = sc.read_10x_mtx('H:/data1/D2-SC/outs/filtered_feature_bc_matrix',var_names='gene_symbols', cache=False)\n",
    "print(D2_SC)\n",
    "D2_SC.write_h5ad('F:/single cell data/SC/D2-SC.h5ad')"
   ]
  },
  {
   "cell_type": "code",
   "execution_count": null,
   "id": "0ede521b-1d47-4c27-b56e-2f11c05e5d0d",
   "metadata": {},
   "outputs": [],
   "source": [
    "sc.pp.filter_cells(D2_SC, min_genes=200)#cell must have 200 non-zero-count features to stay\n",
    "sc.pp.filter_genes(D2_SC, min_cells= 8)#gene must be in 5 cells to stay\n",
    "mito_genes = D2_SC.var_names.str.startswith('mt-')# for each cell compute fraction of counts in mito genes vs. all genes\n",
    "D2_SC.obs['percent_mito'] = np.sum(D2_SC[:, mito_genes].X, axis =1)/np.sum(D2_SC.X, axis=1) # add each cell's fraction mito accounts as an obs annotation\n",
    "D2_SC.obs['n_counts'] =D2_SC.X.sum(axis=1) # add the total counts per cell as observations-annotation\n",
    "D2_SC = D2_SC[D2_SC.obs.percent_mito < 0.01,:]\n",
    "D2_SC = D2_SC[D2_SC.obs['n_genes']< 4000,:]\n",
    "D2_SC = D2_SC[D2_SC.obs['n_counts'] < 10000, :]\n",
    "print(D2_SC)"
   ]
  },
  {
   "cell_type": "code",
   "execution_count": null,
   "id": "d700fc14-7bc5-487d-8a14-c7a37d0f5021",
   "metadata": {},
   "outputs": [],
   "source": [
    "#Visualize count matrix before filtering\n",
    "sc.pl.violin(D2_SC, ['n_genes', 'n_counts','percent_mito'], jitter =0.4, multi_panel= True)\n",
    "sc.pl.scatter(D2_SC, x= 'n_counts', y= 'percent_mito')\n",
    "sc.pl.scatter(D2_SC, x= 'n_counts', y= 'n_genes')\n",
    "counts_matrix = D2_SC.X\n",
    "scrub = scr.Scrublet(counts_matrix, expected_doublet_rate= 0.06)\n",
    "doublet_scores, precdicted_doublets = scrub.scrub_doublets(min_cells= 8, min_gene_variability_pctl= 85, n_prin_comps=40)\n",
    "D2_SC.obs['Doublet'] = scrub.predicted_doublets_\n",
    "D2_SC.obs['Doublet Score'] = scrub.doublet_scores_obs_\n",
    "D2_SC = D2_SC[D2_SC.obs['Doublet']== False,:]\n",
    "D2_SC.write_h5ad('F:/single cell data/SC/D2-SC_filter.h5ad')\n",
    "print(D2_SC)"
   ]
  },
  {
   "cell_type": "code",
   "execution_count": null,
   "id": "0c1b8787-9b6c-4b84-9b9e-2c50c555e618",
   "metadata": {},
   "outputs": [],
   "source": [
    "#D1_SC&D2_SC\n",
    "D1_SC=sc.read_h5ad('F:/single cell data/SC/D1-SC_filter.h5ad')\n",
    "D2_SC=sc.read_h5ad('F:/single cell data/SC/D2-SC_filter.h5ad')\n",
    "D_SC =sc.AnnData.concatenate(D1_SC, D2_SC,batch_categories=['D1_SC','D2_SC'],batch_key='sample')\n",
    "sc.pp.normalize_per_cell(D_SC,counts_per_cell_after= 1e4)\n",
    "sc.pp.log1p(D_SC)\n",
    "sc.pp.highly_variable_genes(D_SC, min_mean=0.0125, max_mean=3, min_disp=0.5)\n",
    "D_SC=sc.read_h5ad('F:/single cell data/SC/D_SC_HVG.h5ad')\n",
    "presubclass = pd.read_csv('F:/single cell data/SC/D_SC_leiden_presubclass.csv',index_col='cell_id')\n",
    "preclass = pd.read_csv('F:/single cell data/SC/D_SC_leiden_preclass.csv',index_col='cell_id')\n",
    "D_SC.obs['presubclass'] = presubclass\n",
    "D_SC.obs['preclass'] = preclass\n",
    "sc.tl.pca(D_SC,svd_solver='arpack')\n",
    "sc.pl.pca_variance_ratio(D_SC, log=True)\n",
    "sc.external.pp.harmony_integrate(D_SC,key='sample')\n",
    "sc.pp.neighbors(D_SC,n_neighbors=25, n_pcs=40,use_rep='X_pca_harmony')\n",
    "sc.tl.leiden(D_SC,resolution=1.5)\n",
    "sc.tl.umap(D_SC)\n",
    "D_SC.write_h5ad('F:/single cell data/SC/D_SC_pre.h5ad')"
   ]
  },
  {
   "cell_type": "code",
   "execution_count": null,
   "id": "a8737115-7005-4630-810c-c167f2253fae",
   "metadata": {},
   "outputs": [],
   "source": [
    "D_SC=sc.read_h5ad('F:/single cell data/SC/D_SC_pre.h5ad')\n",
    "D_SC_leiden = D_SC.obs['leiden']\n",
    "D_SC_leiden.to_csv('F:/single cell data/SC/D_SC_leiden.csv')\n",
    "D_SC = D_SC[D_SC.obs['leiden']!='1']\n",
    "D_SC = D_SC[D_SC.obs['leiden']!='17']\n",
    "D_SC.write_h5ad('F:/single cell data/SC/D_SC_NOPAG.h5ad')\n",
    "print(D_SC.obs['leiden'])"
   ]
  },
  {
   "cell_type": "code",
   "execution_count": null,
   "id": "e373db53-cdf4-438e-aec5-412ddeec67a0",
   "metadata": {},
   "outputs": [],
   "source": [
    "cluster_dict= {0:'Oligo 1', 2:'Astro',3:'SC-PAG Lef1 Emx2 Gaba',4:'SCs Dmbx1 Gaba 1',5:'SCsg Gabrr2 Gaba 1',6:'SCsg Pde5a Glut 1',\n",
    "               7:'SCs Pax7 Nfia Gaba 1',8:'SC Lef1 Otx2 Gaba',9:'SCig Foxb1 Glut 1',10:'SC Bnc2 Glut',11:'SCiw Pitx2 Glut',12:'OPC',\n",
    "               13:'SCsg Gabrr2 Gaba 2',14:'SCig Foxb1 Glut 2',15:'SCig Foxb1 Glut 3',16:'SCsg Pde5a Glut 2',18:'PAG-SC Neurod2 Meis2 Glut',\n",
    "               19:'SCsg Pde5a Glut 3',20:'SCs Lef1 Gli3 Gaba 1',21:'Oligo 2',22:'SCs Dmbx1 Gaba 2',23:'SCm-PAG Cdh23 Gaba',\n",
    "               24:'SCop Sln Glut',25:'SCig Tfap2b Chrnb3 Glut',26:'SCs Dmbx1 Gaba 3',27:'Microglia',28:'SC Otx2 Gcnt4 Gaba',29:'SCs Pax7 Nfia Gaba 2',\n",
    "               30:'SC Tnnt1 Gli3 Gaba 1',31:'SCs Dmbx1 Gaba 4',32:'SCs Lef1 Gli3 Gaba 2',\n",
    "               33:'SC Tnnt1 Gli3 Gaba 2',34:'SCs Pax7 Nfia Gaba 3',35:'Oligo 3',36:'VLMC-ABC',37:'Oligo 4',38:'Oligo 5'}\n",
    "cluster = []\n",
    "for i in cluster_dict:cluster.append((cluster_dict[i]))\n",
    "D_SC.obs['cluster']= D_SC.obs['leiden']\n",
    "D_SC.rename_categories(key='cluster', categories=cluster)\n",
    "D_SC.write_h5ad('F:/single cell data/SC/D_SC_NOPAG_pre.h5ad')"
   ]
  },
  {
   "cell_type": "code",
   "execution_count": null,
   "id": "c212d0ab-82a2-4528-a6d9-692d9c29f38d",
   "metadata": {},
   "outputs": [],
   "source": [
    "SC=sc.read_h5ad('F:/single cell data/SC/D_SC_NOPAG_pre.h5ad')\n",
    "subclass =[]\n",
    "for i in range(SC.shape[0]):\n",
    "    if (int(SC.obs['leiden'][i]) in [0,21,35,37,38]):\n",
    "        subclass.append('Oligo')\n",
    "    elif (int(SC.obs['leiden'][i]) in [5,13]):\n",
    "        subclass.append('SCsg Gabrr2 Gaba')\n",
    "    elif (int(SC.obs['leiden'][i]) in [6,16,19]):\n",
    "        subclass.append('SCsg Pde5a Glut')\n",
    "    elif (int(SC.obs['leiden'][i]) in [9,14,15]):\n",
    "        subclass.append('SCig Foxb1 Glut')\n",
    "    elif (int(SC.obs['leiden'][i]) in  [7,29,34]):\n",
    "        subclass.append('SCs Pax7 Nfia Gaba')\n",
    "    elif (int(SC.obs['leiden'][i]) in  [4,22,26,31]):\n",
    "        subclass.append('SCs Dmbx1 Gaba')\n",
    "    elif (int(SC.obs['leiden'][i]) in  [20,32]):\n",
    "        subclass.append('SCs Lef1 Gli3 Gaba')\n",
    "    elif (int(SC.obs['leiden'][i]) in  [30,33]):\n",
    "        subclass.append('SC Tnnt1 Gli3 Gaba')\n",
    "    elif (int(SC.obs['leiden'][i]) ==  8):\n",
    "        subclass.append('SC Lef1 Otx2 Gaba')\n",
    "    elif (int(SC.obs['leiden'][i]) ==  28):\n",
    "        subclass.append('SC Otx2 Gcnt4 Gaba')\n",
    "    elif (int(SC.obs['leiden'][i]) ==  12):\n",
    "        subclass.append('OPC')\n",
    "    elif (int(SC.obs['leiden'][i]) ==  27):\n",
    "        subclass.append('Microglia')\n",
    "    elif (int(SC.obs['leiden'][i]) ==  24):\n",
    "        subclass.append('SCop Sln Glut')\n",
    "    elif (int(SC.obs['leiden'][i]) ==  36):\n",
    "        subclass.append('VLMC-ABC')\n",
    "    elif (int(SC.obs['leiden'][i]) ==  2):\n",
    "        subclass.append('Astro')\n",
    "    elif (int(SC.obs['leiden'][i]) == 11 ):\n",
    "        subclass.append('SCiw Pitx2 Glut')\n",
    "    elif (int(SC.obs['leiden'][i]) == 3):\n",
    "        subclass.append('SC-PAG Lef1 Emx2 Gaba')\n",
    "    elif (int(SC.obs['leiden'][i]) == 25):\n",
    "        subclass.append('SCig Tfap2b Chrnb3 Glut')\n",
    "    elif (int(SC.obs['leiden'][i]) ==  10):\n",
    "        subclass.append('SC Bnc2 Glut')\n",
    "    elif (int(SC.obs['leiden'][i]) == 23):\n",
    "        subclass.append('SCm-PAG Cdh23 Gaba')\n",
    "    elif (int(SC.obs['leiden'][i]) == 18):\n",
    "        subclass.append('PAG-SC Neurod2 Meis2 Glut')\n",
    "SC.obs['subclass'] = subclass\n",
    "SC.write_h5ad('F:/single cell data/SC/D_SC_pre_NOPAG_subclass.h5ad')"
   ]
  },
  {
   "cell_type": "code",
   "execution_count": null,
   "id": "1e6dee3b-c291-43fd-9564-9ea1652808c5",
   "metadata": {},
   "outputs": [],
   "source": []
  }
 ],
 "metadata": {
  "kernelspec": {
   "display_name": "Python 3 (ipykernel)",
   "language": "python",
   "name": "python3"
  },
  "language_info": {
   "codemirror_mode": {
    "name": "ipython",
    "version": 3
   },
   "file_extension": ".py",
   "mimetype": "text/x-python",
   "name": "python",
   "nbconvert_exporter": "python",
   "pygments_lexer": "ipython3",
   "version": "3.10.10"
  }
 },
 "nbformat": 4,
 "nbformat_minor": 5
}
