{
 "cells": [
  {
   "cell_type": "code",
   "execution_count": 2,
   "id": "8d1a942e-f01c-428b-b587-3052a86166cb",
   "metadata": {},
   "outputs": [],
   "source": [
    "import numpy as np\n",
    "import anndata as ad\n",
    "import scanpy as sc\n",
    "import pandas as pd\n",
    "import matplotlib.pyplot as plt\n",
    "import anndata\n",
    "import seaborn as sns\n",
    "import scvelo as scv \n",
    "from scipy.stats import zscore\n",
    "from dtne import *"
   ]
  },
  {
   "cell_type": "code",
   "execution_count": 28,
   "id": "a337e9d0-6049-4ef8-942e-8be57be2aaf1",
   "metadata": {},
   "outputs": [
    {
     "name": "stdout",
     "output_type": "stream",
     "text": [
      "PDF saved as F:/spatial/HIP/figures/HIP_DG_PC1.pdf\n"
     ]
    }
   ],
   "source": [
    "import numpy as np\n",
    "import matplotlib.pyplot as plt\n",
    "import scvelo as scv\n",
    "\n",
    "# 假设数据已经加载到 adata 中\n",
    "adata = filtered_DG_PC1\n",
    "\n",
    "# 设置 slice 分类\n",
    "slice_categories = ['NR1_2', 'NR2_2', 'DR1_2', 'DR2_2']\n",
    "\n",
    "# Step 1: 分别展示每个 slice 的散点图，并设置对应 colorbar 的最大值和最小值\n",
    "fig, axes = plt.subplots(2, 2, figsize=(10, 10))  # 更大的图尺寸以适应所有子图\n",
    "\n",
    "for i, slice_category in enumerate(slice_categories):\n",
    "    ax = axes[i//2, i%2]  # 获取当前子图的位置\n",
    "    # 筛选当前 slice 的数据\n",
    "    subset = adata[adata.obs['slice'] == slice_category, :]\n",
    "    \n",
    "    # 计算当前 slice 的 PC1 的最小值和最大值\n",
    "    pc1_slice_min = subset.obs['PC1'].min()\n",
    "    pc1_slice_max = subset.obs['PC1'].max()\n",
    "    \n",
    "    # 手动绘制散点图，设置 colorbar 范围为该 slice 的 PC1 最小值和最大值\n",
    "    sc = ax.scatter(subset.obsm['stereo'][:, 0], subset.obsm['stereo'][:, 1], \n",
    "                    c=subset.obs['PC1'], cmap='viridis', vmin=pc1_slice_min, vmax=pc1_slice_max, s=5)\n",
    "    ax.set_title(slice_category)\n",
    "    \n",
    "    # 获取 colorbar 对象并将其放置到右下角，缩小 colorbar\n",
    "    cbar = fig.colorbar(sc, ax=ax, orientation='vertical', pad=0.05, shrink=0.6)\n",
    "    cbar.set_label('PC1', fontsize=12)\n",
    "    \n",
    "    # 隐藏坐标轴\n",
    "    ax.axis('off')  # 去掉坐标轴\n",
    "\n",
    "# 调整子图布局\n",
    "plt.tight_layout()\n",
    "\n",
    "# 显示图形\n",
    "#plt.show()\n",
    "output_path = \"F:/spatial/HIP/figures/HIP_DG_PC1.pdf\"\n",
    "plt.savefig(output_path, format='pdf', bbox_inches='tight')\n",
    "plt.close()\n",
    "print(f\"PDF saved as {output_path}\")"
   ]
  },
  {
   "cell_type": "code",
   "execution_count": 30,
   "id": "2f3b175e-7860-4b47-bbc8-81182aa92fc6",
   "metadata": {},
   "outputs": [
    {
     "name": "stdout",
     "output_type": "stream",
     "text": [
      "PDF saved as F:/spatial/HIP/figures/HIP_NR_DG_digital_layer&PC1.pdf\n"
     ]
    }
   ],
   "source": [
    "sns.kdeplot(\n",
    "    data=filtered_NR_DG_PC1.obs, x=\"digital_layer\", y=\"PC1\",\n",
    "    fill=True, thresh=0, levels=10, cmap=\"mako\",clip=((1, 8.0), (-4, 4)))\n",
    "plt.text(0.95, 0.95, 'NR', ha='center', va='center', transform=plt.gca().transAxes, color='white', fontsize=12)\n",
    "#plt.show()\n",
    "output_path = \"F:/spatial/HIP/figures/HIP_NR_DG_digital_layer&PC1.pdf\"\n",
    "plt.savefig(output_path, format='pdf', bbox_inches='tight')\n",
    "plt.close()\n",
    "print(f\"PDF saved as {output_path}\")"
   ]
  },
  {
   "cell_type": "code",
   "execution_count": 32,
   "id": "47d13e75-1e23-49f7-a9e6-2598acfccd84",
   "metadata": {},
   "outputs": [
    {
     "name": "stdout",
     "output_type": "stream",
     "text": [
      "PDF saved as F:/spatial/HIP/figures/HIP_DR_DG_digital_layer&PC1.pdf\n"
     ]
    }
   ],
   "source": [
    "sns.kdeplot(\n",
    "    data=filtered_DR_DG_PC1.obs, x=\"digital_layer\", y=\"PC1\",\n",
    "    fill=True, thresh=0, levels=10, cmap=\"mako\",clip=((1, 8.0), (-4, 4)))\n",
    "plt.text(0.95, 0.95, 'DR', ha='center', va='center', transform=plt.gca().transAxes, color='white', fontsize=12)\n",
    "#plt.show()\n",
    "output_path = \"F:/spatial/HIP/figures/HIP_DR_DG_digital_layer&PC1.pdf\"\n",
    "plt.savefig(output_path, format='pdf', bbox_inches='tight')\n",
    "plt.close()\n",
    "print(f\"PDF saved as {output_path}\")"
   ]
  },
  {
   "cell_type": "code",
   "execution_count": 47,
   "id": "ff83df9f-43f7-4bee-87da-aca5b7474ab9",
   "metadata": {},
   "outputs": [
    {
     "name": "stdout",
     "output_type": "stream",
     "text": [
      "      condition     FWHM\n",
      "81822        NR  1.66355\n",
      "81823        NR  1.66355\n",
      "81824        NR  1.66355\n",
      "81826        NR  1.66355\n",
      "81828        NR  1.66355\n",
      "PDF saved as F:/spatial/V1_integration/NR_V/figures/DG_FWHM.pdf\n"
     ]
    }
   ],
   "source": [
    "import numpy as np\n",
    "import seaborn as sns\n",
    "import matplotlib.pyplot as plt\n",
    "from scipy.stats import gaussian_kde\n",
    "\n",
    "# 假设DG.obs中有 \"PC1\" 和 \"condition\" 列\n",
    "data = DG.obs['PC1']\n",
    "condition_list = DG.obs['condition'].unique()\n",
    "\n",
    "# 创建一个空字典来保存每个condition的FWHM\n",
    "fwhm_dict = {}\n",
    "\n",
    "# 使用sns.displot来绘制KDE图，返回一个FacetGrid对象\n",
    "g = sns.displot(DG.obs, x=\"PC1\", hue=\"condition\", kind=\"kde\")\n",
    "\n",
    "# 获取FacetGrid中的Axes对象，使用g.axes[0, 0]来访问第一个子图的Axes对象\n",
    "axes = g.axes[0, 0]\n",
    "\n",
    "# 设置偏移量初始值\n",
    "offset = 0  # 偏移量（百分比）\n",
    "\n",
    "# 计算每个condition的FWHM并添加到图中\n",
    "for condition in condition_list:\n",
    "    condition_data = DG.obs[DG.obs['condition'] == condition]['PC1']\n",
    "    \n",
    "    # 使用scipy的gaussian_kde计算KDE\n",
    "    kde = gaussian_kde(condition_data, bw_method='silverman')  # 可以选择合适的带宽方法\n",
    "    x = np.linspace(min(condition_data), max(condition_data), 1000)\n",
    "    y = kde(x)\n",
    "    \n",
    "    # 找到最大值和半最大值\n",
    "    max_value = np.max(y)\n",
    "    half_max = max_value / 2\n",
    "    \n",
    "    # 找到半最大值的左右位置（即FWHM的边界）\n",
    "    fwhm_indices = np.where(y >= half_max)[0]\n",
    "    fwhm_left = x[fwhm_indices[0]]\n",
    "    fwhm_right = x[fwhm_indices[-1]]\n",
    "    \n",
    "    # 计算FWHM\n",
    "    fwhm = fwhm_right - fwhm_left\n",
    "    \n",
    "    # 将计算出的FWHM存入字典\n",
    "    fwhm_dict[condition] = fwhm\n",
    "    \n",
    "    # 在图中添加FWHM标注\n",
    "    axes.axvline(fwhm_left, color='gray', linestyle='--', linewidth=1)\n",
    "    axes.axvline(fwhm_right, color='gray', linestyle='--', linewidth=1)\n",
    "    \n",
    "    # 获取y轴的范围\n",
    "    ymin, ymax = axes.get_ylim()\n",
    "    \n",
    "    # 动态调整文本的纵坐标\n",
    "    text_y_position = ymax * 0.9 - offset\n",
    "    offset += 0.15  # 每次增加偏移量，避免重叠\n",
    "    \n",
    "    # 将文本的纵坐标设置为y轴的适当位置\n",
    "    axes.text((fwhm_left + fwhm_right) / 2, text_y_position, f\"FWHM: {fwhm:.2f}\", \n",
    "              horizontalalignment='center', color='black')\n",
    "\n",
    "# 将计算出的FWHM值赋值到DG.obs['FWHM']中\n",
    "DG.obs['FWHM'] = DG.obs['condition'].map(fwhm_dict)\n",
    "\n",
    "# 添加标题和标签\n",
    "g.fig.suptitle('DG L2/3', fontsize=16)\n",
    "g.set_axis_labels('PC1', 'Density')\n",
    "#plt.show()\n",
    "\n",
    "# 显示保存了FWHM的DataFrame前几行（可选）\n",
    "print(DG.obs[['condition', 'FWHM']].head())\n",
    "output_path = \"F:/spatial/V1_integration/NR_V/figures/DG_FWHM.pdf\"\n",
    "plt.savefig(output_path, format='pdf', bbox_inches='tight')\n",
    "plt.close()\n",
    "\n",
    "print(f\"PDF saved as {output_path}\")"
   ]
  }
 ],
 "metadata": {
  "kernelspec": {
   "display_name": "Python 3 (ipykernel)",
   "language": "python",
   "name": "python3"
  },
  "language_info": {
   "codemirror_mode": {
    "name": "ipython",
    "version": 3
   },
   "file_extension": ".py",
   "mimetype": "text/x-python",
   "name": "python",
   "nbconvert_exporter": "python",
   "pygments_lexer": "ipython3",
   "version": "3.10.10"
  }
 },
 "nbformat": 4,
 "nbformat_minor": 5
}
