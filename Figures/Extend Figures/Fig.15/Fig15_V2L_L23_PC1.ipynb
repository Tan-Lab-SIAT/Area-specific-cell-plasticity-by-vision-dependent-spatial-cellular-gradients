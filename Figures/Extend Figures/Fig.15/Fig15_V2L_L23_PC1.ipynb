{
 "cells": [
  {
   "cell_type": "code",
   "execution_count": 2,
   "id": "6a707b40-a77e-42ba-9660-4bcf653d5612",
   "metadata": {},
   "outputs": [],
   "source": [
    "import numpy as np\n",
    "import anndata as ad\n",
    "import scanpy as sc\n",
    "import pandas as pd\n",
    "import matplotlib.pyplot as plt\n",
    "import anndata\n",
    "import seaborn as sns\n",
    "import scvelo as scv \n",
    "from scipy.stats import zscore\n",
    "from dtne import *"
   ]
  },
  {
   "cell_type": "code",
   "execution_count": 113,
   "id": "2522e840-8ea8-495d-9da9-ff965bbad793",
   "metadata": {},
   "outputs": [
    {
     "name": "stdout",
     "output_type": "stream",
     "text": [
      "Renamed 'stereo_rotated' to convention 'X_stereo_rotated' (adata.obsm).\n",
      "Renamed 'stereo_rotated' to convention 'X_stereo_rotated' (adata.obsm).\n",
      "Renamed 'stereo_rotated' to convention 'X_stereo_rotated' (adata.obsm).\n",
      "Renamed 'stereo_rotated' to convention 'X_stereo_rotated' (adata.obsm).\n",
      "PDF saved as F:/spatial/V2L/Figure/V2L_l23_PC1.pdf\n"
     ]
    }
   ],
   "source": [
    "adata = filtered_l23_PC1_shifted\n",
    "\n",
    "# 设置 slice 分类\n",
    "slice_categories = ['NR1_2', 'NR2_2', 'DR1_2', 'DR2_2']\n",
    "\n",
    "# Step 1: 分别展示每个 slice 的散点图，并设置对应 colorbar 的最大值和最小值\n",
    "fig, axes = plt.subplots(2, 2, figsize=(4, 2))\n",
    "\n",
    "for i, slice_category in enumerate(slice_categories):\n",
    "    ax = axes[i//2, i%2]  # 获取当前子图的位置\n",
    "    # 筛选当前 slice 的数据\n",
    "    subset = adata[adata.obs['slice'] == slice_category, :]\n",
    "    \n",
    "    # 计算当前 slice 的 PC1 的最小值和最大值\n",
    "    pc1_slice_min = subset.obs['PC1'].min()\n",
    "    pc1_slice_max = subset.obs['PC1'].max()\n",
    "    \n",
    "    # 绘制当前 slice 的散点图，colorbar 范围为该 slice 的 PC1 最小值和最大值\n",
    "    scv.pl.scatter(subset, basis='stereo_rotated', color='PC1', cmap='viridis', \n",
    "                   vmin=pc1_slice_min, vmax=pc1_slice_max,  # 设置当前 slice 的 colorbar 范围\n",
    "                    ax=ax, show=False, \n",
    "                   size=20, title=slice_category)\n",
    "    \n",
    "    # 获取 colorbar 对象\n",
    "    cbar = ax.collections[0].colorbar\n",
    "    # 设置 colorbar 的 ticks 为当前 slice 的最小值和最大值\n",
    "    cbar.set_ticks([pc1_slice_min, pc1_slice_max])\n",
    "    \n",
    "    # 设置 colorbar 的标签\n",
    "    cbar.set_label('PC1', fontsize=8)  # 设置 colorbar 标签字体大小\n",
    "\n",
    "    # 调整刻度标签的字体大小\n",
    "    cbar.ax.tick_params(labelsize=8)  # 设置刻度标签的字体大小\n",
    "    # 设置 title 的字体大小\n",
    "    ax.set_title(slice_category, fontsize=10)  # 设置 title 字体大小\n",
    "\n",
    "# 调整子图布局\n",
    "plt.subplots_adjust(hspace=0.3, wspace=0.3, bottom=0.2)\n",
    "# 显示图形\n",
    "#plt.show()\n",
    "# 保存为 PDF\n",
    "output_path = \"F:/spatial/V2L/Figure/V2L_l23_PC1.pdf\"\n",
    "plt.savefig(output_path, format='pdf', bbox_inches='tight')\n",
    "plt.close()\n",
    "print(f\"PDF saved as {output_path}\")\n",
    "\n",
    "\n",
    "\n",
    "\n"
   ]
  },
  {
   "cell_type": "code",
   "execution_count": 17,
   "id": "75f9531a-1948-4307-b1e6-d3913b80f959",
   "metadata": {},
   "outputs": [
    {
     "name": "stdout",
     "output_type": "stream",
     "text": [
      "PDF saved as F:/spatial/V2L/Figure/V2L_NR_l23_digital_layer&PC1.pdf\n"
     ]
    }
   ],
   "source": [
    "sns.kdeplot(\n",
    "    data=filtered_NR_l23_PC1.obs, x=\"digital_layer\", y=\"PC1\",\n",
    "    fill=True, thresh=0, levels=10, cmap=\"mako\",clip=((1.5, 4.5), (-4, 4)))\n",
    "plt.text(0.95, 0.95, 'NR', ha='center', va='center', transform=plt.gca().transAxes, color='white', fontsize=12)\n",
    "#plt.show()\n",
    "output_path = \"F:/spatial/V2L/Figure/V2L_NR_l23_digital_layer&PC1.pdf\"\n",
    "plt.savefig(output_path, format='pdf', bbox_inches='tight')\n",
    "plt.close()\n",
    "\n",
    "print(f\"PDF saved as {output_path}\")"
   ]
  },
  {
   "cell_type": "code",
   "execution_count": 18,
   "id": "82a47a7d-e30a-4be6-bfd6-58c249738e10",
   "metadata": {},
   "outputs": [
    {
     "name": "stdout",
     "output_type": "stream",
     "text": [
      "PDF saved as F:/spatial/V2L/Figure/V2L_DR_l23_digital_layer&PC1.pdf\n"
     ]
    }
   ],
   "source": [
    "sns.kdeplot(\n",
    "    data=filtered_DR_l23_PC1.obs, x=\"digital_layer\", y=\"PC1\",\n",
    "    fill=True, thresh=0, levels=10, cmap=\"mako\",clip=((1.5, 4.5), (-4, 4)))\n",
    "plt.text(0.95, 0.95, 'DR', ha='center', va='center', transform=plt.gca().transAxes, color='white', fontsize=12)\n",
    "#plt.show()\n",
    "output_path = \"F:/spatial/V2L/Figure/V2L_DR_l23_digital_layer&PC1.pdf\"\n",
    "plt.savefig(output_path, format='pdf', bbox_inches='tight')\n",
    "plt.close()\n",
    "print(f\"PDF saved as {output_path}\")"
   ]
  },
  {
   "cell_type": "code",
   "execution_count": 48,
   "id": "4f119b5f-4bc5-4695-bd66-773614b5b4e3",
   "metadata": {},
   "outputs": [
    {
     "name": "stdout",
     "output_type": "stream",
     "text": [
      "       condition     FWHM\n",
      "100335        NR  2.52872\n",
      "100344        NR  2.52872\n",
      "100345        NR  2.52872\n",
      "100378        NR  2.52872\n",
      "100391        NR  2.52872\n",
      "PDF saved as F:/spatial/V1_integration/NR_V/figures/V2L_l23_FWHM.pdf\n"
     ]
    }
   ],
   "source": [
    "import numpy as np\n",
    "import seaborn as sns\n",
    "import matplotlib.pyplot as plt\n",
    "from scipy.stats import gaussian_kde\n",
    "\n",
    "# 假设V2L_l23.obs中有 \"PC1\" 和 \"condition\" 列\n",
    "data = V2L_l23.obs['PC1']\n",
    "condition_list = V2L_l23.obs['condition'].unique()\n",
    "\n",
    "# 创建一个空字典来保存每个condition的FWHM\n",
    "fwhm_dict = {}\n",
    "\n",
    "# 使用sns.displot来绘制KDE图，返回一个FacetGrid对象\n",
    "g = sns.displot(V2L_l23.obs, x=\"PC1\", hue=\"condition\", kind=\"kde\")\n",
    "\n",
    "# 获取FacetGrid中的Axes对象，使用g.axes[0, 0]来访问第一个子图的Axes对象\n",
    "axes = g.axes[0, 0]\n",
    "\n",
    "# 设置偏移量初始值\n",
    "offset = 0  # 偏移量（百分比）\n",
    "\n",
    "# 计算每个condition的FWHM并添加到图中\n",
    "for condition in condition_list:\n",
    "    condition_data = V2L_l23.obs[V2L_l23.obs['condition'] == condition]['PC1']\n",
    "    \n",
    "    # 使用scipy的gaussian_kde计算KDE\n",
    "    kde = gaussian_kde(condition_data, bw_method='silverman')  # 可以选择合适的带宽方法\n",
    "    x = np.linspace(min(condition_data), max(condition_data), 1000)\n",
    "    y = kde(x)\n",
    "    \n",
    "    # 找到最大值和半最大值\n",
    "    max_value = np.max(y)\n",
    "    half_max = max_value / 2\n",
    "    \n",
    "    # 找到半最大值的左右位置（即FWHM的边界）\n",
    "    fwhm_indices = np.where(y >= half_max)[0]\n",
    "    fwhm_left = x[fwhm_indices[0]]\n",
    "    fwhm_right = x[fwhm_indices[-1]]\n",
    "    \n",
    "    # 计算FWHM\n",
    "    fwhm = fwhm_right - fwhm_left\n",
    "    \n",
    "    # 将计算出的FWHM存入字典\n",
    "    fwhm_dict[condition] = fwhm\n",
    "    \n",
    "    # 在图中添加FWHM标注\n",
    "    axes.axvline(fwhm_left, color='gray', linestyle='--', linewidth=1)\n",
    "    axes.axvline(fwhm_right, color='gray', linestyle='--', linewidth=1)\n",
    "    \n",
    "    # 获取y轴的范围\n",
    "    ymin, ymax = axes.get_ylim()\n",
    "    \n",
    "    # 动态调整文本的纵坐标\n",
    "    text_y_position = ymax * 0.9 - offset\n",
    "    offset += 0.02  # 每次增加偏移量，避免重叠\n",
    "    \n",
    "    # 将文本的纵坐标设置为y轴的适当位置\n",
    "    axes.text((fwhm_left + fwhm_right) / 2, text_y_position, f\"FWHM: {fwhm:.2f}\", \n",
    "              horizontalalignment='center', color='black')\n",
    "\n",
    "# 将计算出的FWHM值赋值到V2L_l23.obs['FWHM']中\n",
    "V2L_l23.obs['FWHM'] = V2L_l23.obs['condition'].map(fwhm_dict)\n",
    "\n",
    "# 添加标题和标签\n",
    "g.fig.suptitle('V2L L2/3', fontsize=16)\n",
    "g.set_axis_labels('PC1', 'Density')\n",
    "#plt.show()\n",
    "\n",
    "# 显示保存了FWHM的DataFrame前几行（可选）\n",
    "print(V2L_l23.obs[['condition', 'FWHM']].head())\n",
    "output_path = \"F:/spatial/V1_integration/NR_V/figures/V2L_l23_FWHM.pdf\"\n",
    "plt.savefig(output_path, format='pdf', bbox_inches='tight')\n",
    "plt.close()\n",
    "\n",
    "print(f\"PDF saved as {output_path}\")"
   ]
  }
 ],
 "metadata": {
  "kernelspec": {
   "display_name": "Python 3 (ipykernel)",
   "language": "python",
   "name": "python3"
  },
  "language_info": {
   "codemirror_mode": {
    "name": "ipython",
    "version": 3
   },
   "file_extension": ".py",
   "mimetype": "text/x-python",
   "name": "python",
   "nbconvert_exporter": "python",
   "pygments_lexer": "ipython3",
   "version": "3.10.10"
  }
 },
 "nbformat": 4,
 "nbformat_minor": 5
}
