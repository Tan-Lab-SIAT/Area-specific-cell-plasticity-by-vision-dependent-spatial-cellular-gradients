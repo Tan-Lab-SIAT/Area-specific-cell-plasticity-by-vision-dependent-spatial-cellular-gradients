{
 "cells": [
  {
   "cell_type": "code",
   "execution_count": null,
   "id": "fc361fee-3a13-49ea-acfd-1ca102c9e53d",
   "metadata": {},
   "outputs": [],
   "source": [
    "NR_AMY_1.5_dict = {0:'DG Glut', 1:'MEA Slc17a7 Glut', 2:'MEA Slc17a7 Glut',3:'Mix', 4:'MEA Slc17a7 Glut',5:'MEA Slc17a7 Glut',6:'COAa-PAA-MEA Barhl2 Glut',7:'Mix Glut',8:'Mix Glut',9:'MEA-COA-BMA Ccdc42 Glut',10:'Mix Glut',\n",
    "                 11:'L2/3 IT PIR-ENTl Glut',12:'COAa-PAA-MEA Barhl2 Glut',13:'MEA Slc17a7 Glut',14:'Mix Glut',15:'Mix Glut',16:'MEA-BST Otp Zic2 Glut',17:'CA3 Glut',18:'MEA-COA-BMA Ccdc42 Glut',19:'MEA-COA-BMA Ccdc42 Glut',20:'COAa-PAA-MEA Barhl2 Glut',21:'Mix Glut',22:'COAp Grxcr2 Glut',23:'Mix Glut',24:'LA-BLA-BMA-PA Glut',\n",
    "                 25:'IT EP-CLA Glut',26:'COAa-PAA-MEA Barhl2 Glut',27:'L2/3 IT PIR-ENTl Glut',28:'HPF CR Glut',29:'LA-BLA-BMA-PA Glut',30:'COAa-PAA-MEA Barhl2 Glut',31:'NLOT Rho Glut'}"
   ]
  },
  {
   "cell_type": "code",
   "execution_count": null,
   "id": "203a5ae1-a360-4cc7-9c52-0dc53b2984f6",
   "metadata": {},
   "outputs": [],
   "source": [
    "NR_AMY_cluster_dict = {VGLUT_mix-1:'Mix',VGLUT_mix-2:'MEA-COA-BMA Ccdc42 Glut',VGLUT_mix-3:'Mix',VGLUT_mix-4:'MEA Slc17a7 Glut',\n",
    "                      VGLUT1-1:'L2/3 IT PIR-ENTl Glut',VGLUT1-2:'LA-BLA-BMA-PA Glut',VGLUT1-3:'Mix Glut',VGLUT1-4:'MEA Slc17a7 Glut',\n",
    "                      VGLUT2-1:'COAa-PAA-MEA Barhl2 Glut',VGLUT2-2:'COAa-PAA-MEA Barhl2 Glut',VGLUT2-3:'COAa-PAA-MEA Barhl2 Glut',\n",
    "                      VGLUT2-4:MEA-COA-BMA Ccdc42 Glut}"
   ]
  },
  {
   "cell_type": "code",
   "execution_count": null,
   "id": "ec27f6b9-4142-4283-b129-a9b7f4214ace",
   "metadata": {},
   "outputs": [],
   "source": [
    "DR_AMY_VGLUT2_dict = {0:'MEA-COA-BMA Ccdc42 Glut',1:'MEA-COA-BMA Ccdc42 Glut',2:'MEA-COA-BMA Ccdc42 Glut',3:'Mix',4:'COAa-PAA-MEA Barhl2 Glut',5:'COAa-PAA-MEA Barhl2 Glut',\n",
    "                     6:'HPF CR',7:'COAa-PAA-MEA Barhl2 Glut',8:'Mix',9:'COAa-PAA-MEA Barhl2 Glut'}"
   ]
  },
  {
   "cell_type": "code",
   "execution_count": null,
   "id": "61090882-e911-4ed5-8897-460e32c1fa99",
   "metadata": {},
   "outputs": [],
   "source": [
    "DR_AMY_VGLUT1_dict = {0:'Mix',1:'L2/3 IT PIR-ENTl Glut',2:'MEA Slc17a7 Glut',3:'MEA Slc17a7 Glut',4:'COAp Grxcr2 Glut',5:'MEA Slc17a7 Glut',6:'L2/3 IT PIR-ENTl Glut',\n",
    "                     7:'IT EP-CLA Glut',8:'LA-BLA-BMA-PA Glut',9:'DG Glut',10:'Mix',11:'LA-BLA-BMA-PA Glut'}"
   ]
  },
  {
   "cell_type": "code",
   "execution_count": null,
   "id": "aa626c0b-ea34-49c6-ba67-c2763757b2a0",
   "metadata": {},
   "outputs": [],
   "source": [
    "DR_AMY_VGLUT_mix = {0:'Mix',1:'Mix',2:'COAa-PAA-MEA Barhl2 Glut',3:'MEA-COA-BMA Ccdc42 Glut',4:'NLOT Rho Glut',5:'MEA Slc17a7 Glut',6:'MEA Slc17a7 Glut'}"
   ]
  },
  {
   "cell_type": "code",
   "execution_count": null,
   "id": "87254b10-74a9-4277-a816-26c0d16fa35e",
   "metadata": {},
   "outputs": [],
   "source": [
    "DR_AMY_Non = {0:'OPC',1:'Astro',2:'Microglia',3:'VLMC',4:'Oligo',5:'Oligo',6:'DG-PIR Ex IMN',7:'ABC'}"
   ]
  },
  {
   "cell_type": "code",
   "execution_count": null,
   "id": "38f8f8f3-a6a5-4adf-9390-093b8a43c963",
   "metadata": {},
   "outputs": [],
   "source": [
    "DR_AMY_Gaba = {0:'Pvalb-Sst Gaba',1:'MEA-BST Sox6 Gaba',2:'Mix',3:'Lamp5 Lhx6 Gaba',4:'Vip',5:'RHP-COA Ndnf Gaba',6:'MEA-BST Sox6 Gaba',7:'Sst Gaba',\n",
    "               8:'STR-PAL Chst9 Gaba',9:'MEA-BST Lhx6 Sp9 Gaba',10:'Lamp5 Gaba',11:'MEA-BST Sox6 Gaba',12:'MEA-BST Sox6 Gaba',13:'MEA-BST Lhx6 Nfib Gaba',\n",
    "              14:'Sncg Gaba',15:'MEA-BST Lhx6 Nr2e1 Gaba',16:'STR Prox1 Lhx6 Gaba',17:'Vip Gaba',18:'Pvalb chandelier Gaba'}"
   ]
  },
  {
   "cell_type": "code",
   "execution_count": null,
   "id": "9c17efb3-a159-4dcd-ac25-f9c1be55a09f",
   "metadata": {},
   "outputs": [],
   "source": []
  },
  {
   "cell_type": "code",
   "execution_count": null,
   "id": "4453d5cb-b6f3-4fd5-8e0f-794a818b81f0",
   "metadata": {},
   "outputs": [],
   "source": []
  },
  {
   "cell_type": "code",
   "execution_count": null,
   "id": "f348b923-b3cb-4069-b5c3-db05595d8fab",
   "metadata": {},
   "outputs": [],
   "source": []
  },
  {
   "cell_type": "code",
   "execution_count": null,
   "id": "f65d043e-39e6-4d54-9cdc-46ec67b4c9b7",
   "metadata": {},
   "outputs": [],
   "source": []
  },
  {
   "cell_type": "code",
   "execution_count": 1,
   "id": "c7152ba6-46d8-485d-90eb-fc29ea76f799",
   "metadata": {},
   "outputs": [],
   "source": [
    "import anndata as ad\n",
    "import numpy as np\n",
    "import scanpy as sc\n",
    "import pandas as pd\n",
    "import openpyxl\n",
    "import csv\n",
    "import matplotlib\n",
    "import scipy.stats as sp\n",
    "import xgboost as xgb\n",
    "import pickle\n",
    "from sklearn.metrics import confusion_matrix, adjusted_rand_score\n",
    "import matplotlib.pyplot as plt\n",
    "from matplotlib import gridspec\n",
    "import scrublet as scr"
   ]
  },
  {
   "cell_type": "code",
   "execution_count": 2,
   "id": "211706ac-818c-4657-b7a7-eba16efd8505",
   "metadata": {},
   "outputs": [],
   "source": [
    "N_AMY =sc.read_h5ad('F:/single cell data/AMY/NR_AMY_Glut.h5ad')"
   ]
  },
  {
   "cell_type": "code",
   "execution_count": 3,
   "id": "7b3e4722-723a-4d35-9cf6-0118a6f9d5f5",
   "metadata": {},
   "outputs": [
    {
     "data": {
      "text/plain": [
       "AnnData object with n_obs × n_vars = 15396 × 22851\n",
       "    obs: 'n_genes', 'n_counts', 'doublet_score', 'Sample', 'Class', 'leiden_res_1.50', 'Subclass', 'Cluster', 'Ann_Subclass'\n",
       "    var: 'gene_ids', 'feature_types', 'n_cells-AMY_1', 'highly_variable-AMY_1', 'means-AMY_1', 'dispersions-AMY_1', 'dispersions_norm-AMY_1', 'n_cells-AMY_2', 'highly_variable-AMY_2', 'means-AMY_2', 'dispersions-AMY_2', 'dispersions_norm-AMY_2', 'highly_variable', 'means', 'dispersions', 'dispersions_norm'\n",
       "    uns: 'Ann_Subclass_colors', 'Class_colors', 'Cluster_colors', 'Sample_colors', 'Subclass_colors', 'dendrogram_Ann_Subclass', 'dendrogram_Cluster', 'dendrogram_leiden_res_1.50', 'dendrogram_leiden_res_2.50', 'hvg', 'leiden_res_0.80', 'leiden_res_0.80_colors', 'leiden_res_1.00', 'leiden_res_1.00_colors', 'leiden_res_1.50', 'leiden_res_1.50_colors', 'leiden_res_2.00', 'leiden_res_2.00_colors', 'leiden_res_2.50', 'leiden_res_2.50_colors', 'neighbors', 'pca', 'umap'\n",
       "    obsm: 'X_pca', 'X_umap'\n",
       "    varm: 'PCs'\n",
       "    layers: 'counts'\n",
       "    obsp: 'connectivities', 'distances'"
      ]
     },
     "execution_count": 3,
     "metadata": {},
     "output_type": "execute_result"
    }
   ],
   "source": [
    "N_AMY"
   ]
  },
  {
   "cell_type": "code",
   "execution_count": 4,
   "id": "88cef4f3-5e3b-4637-8708-7c1e60f723ac",
   "metadata": {},
   "outputs": [],
   "source": [
    "N_leiden_1_5 = N_AMY.obs['leiden_res_1.50']\n",
    "N_leiden_1_5.to_csv('NR_AMY_1_5.csv')\n",
    "N_leiden_cluster = N_AMY.obs['Cluster']\n",
    "N_leiden_cluster.to_csv('NR_AMY_cluster.csv')"
   ]
  },
  {
   "cell_type": "code",
   "execution_count": 5,
   "id": "37513d56-7242-457e-8366-28cfe6e72e13",
   "metadata": {},
   "outputs": [],
   "source": [
    "D_AMY_VGlut2 =sc.read_h5ad('F:/single cell data/AMY/DR_AMY_VGLUT2.h5ad')"
   ]
  },
  {
   "cell_type": "code",
   "execution_count": 6,
   "id": "f3e48ce0-64d3-4d82-8819-b105088b53d9",
   "metadata": {},
   "outputs": [],
   "source": [
    "D_AMY_VGlut1 =sc.read_h5ad('F:/single cell data/AMY/DR_AMY_VGLUT1.h5ad')"
   ]
  },
  {
   "cell_type": "code",
   "execution_count": 7,
   "id": "bd480278-6690-4c2e-8d6f-be4ef612cc79",
   "metadata": {},
   "outputs": [
    {
     "data": {
      "text/plain": [
       "(AnnData object with n_obs × n_vars = 4165 × 22688\n",
       "     obs: 'n_genes', 'percent_mito', 'n_counts', 'doublet_score', 'Sample', 'Class', 'leiden_res_1.50', 'Subclass', 'leiden_res_0.10', 'leiden_res_0.15', 'leiden_res_0.30'\n",
       "     var: 'gene_ids', 'feature_types', 'n_cells-AMY_1', 'highly_variable-AMY_1', 'means-AMY_1', 'dispersions-AMY_1', 'dispersions_norm-AMY_1', 'n_cells-AMY_2', 'highly_variable-AMY_2', 'means-AMY_2', 'dispersions-AMY_2', 'dispersions_norm-AMY_2', 'highly_variable', 'means', 'dispersions', 'dispersions_norm'\n",
       "     uns: 'Class_colors', 'Sample_colors', 'Subclass_colors', 'dendrogram_leiden_res_1.50', 'dendrogram_leiden_res_2.50', 'hvg', 'leiden_res_0.10', 'leiden_res_0.10_colors', 'leiden_res_0.15', 'leiden_res_0.15_colors', 'leiden_res_0.30', 'leiden_res_0.30_colors', 'leiden_res_0.50', 'leiden_res_0.50_colors', 'leiden_res_0.80', 'leiden_res_0.80_colors', 'leiden_res_1.00', 'leiden_res_1.00_colors', 'leiden_res_1.50', 'leiden_res_1.50_colors', 'leiden_res_2.00', 'leiden_res_2.00_colors', 'leiden_res_2.50', 'leiden_res_2.50_colors', 'neighbors', 'pca', 'umap'\n",
       "     obsm: 'X_pca', 'X_umap'\n",
       "     varm: 'PCs'\n",
       "     layers: 'counts'\n",
       "     obsp: 'connectivities', 'distances',\n",
       " AnnData object with n_obs × n_vars = 8626 × 22688\n",
       "     obs: 'n_genes', 'percent_mito', 'n_counts', 'doublet_score', 'Sample', 'Class', 'leiden_res_1.50', 'Subclass', 'leiden_res_0.30', 'leiden_res_0.50', 'leiden_res_0.10', 'leiden_res_0.15'\n",
       "     var: 'gene_ids', 'feature_types', 'n_cells-AMY_1', 'highly_variable-AMY_1', 'means-AMY_1', 'dispersions-AMY_1', 'dispersions_norm-AMY_1', 'n_cells-AMY_2', 'highly_variable-AMY_2', 'means-AMY_2', 'dispersions-AMY_2', 'dispersions_norm-AMY_2', 'highly_variable', 'means', 'dispersions', 'dispersions_norm'\n",
       "     uns: 'Class_colors', 'Sample_colors', 'Subclass_colors', 'dendrogram_leiden_res_0.30', 'dendrogram_leiden_res_1.50', 'dendrogram_leiden_res_2.50', 'hvg', 'leiden_res_0.10', 'leiden_res_0.10_colors', 'leiden_res_0.15', 'leiden_res_0.15_colors', 'leiden_res_0.30', 'leiden_res_0.30_colors', 'leiden_res_0.50', 'leiden_res_0.50_colors', 'leiden_res_0.80', 'leiden_res_0.80_colors', 'leiden_res_1.00', 'leiden_res_1.00_colors', 'leiden_res_1.50', 'leiden_res_1.50_colors', 'leiden_res_2.00', 'leiden_res_2.00_colors', 'leiden_res_2.50', 'leiden_res_2.50_colors', 'neighbors', 'pca', 'umap'\n",
       "     obsm: 'X_pca', 'X_umap'\n",
       "     varm: 'PCs'\n",
       "     layers: 'counts'\n",
       "     obsp: 'connectivities', 'distances')"
      ]
     },
     "execution_count": 7,
     "metadata": {},
     "output_type": "execute_result"
    }
   ],
   "source": [
    "D_AMY_VGlut2, D_AMY_VGlut1"
   ]
  },
  {
   "cell_type": "code",
   "execution_count": 8,
   "id": "bfdba13f-490f-4f5d-b6eb-96e9e6564d5e",
   "metadata": {},
   "outputs": [],
   "source": [
    "D_AMY_VGlut2_leiden = D_AMY_VGlut2.obs['leiden_res_0.30']\n",
    "D_AMY_VGlut2_leiden.to_csv('DR_AMY_VGLUT2.csv')\n",
    "D_AMY_VGlut1_leiden = D_AMY_VGlut1.obs['leiden_res_0.30']\n",
    "D_AMY_VGlut1_leiden.to_csv('DR_AMY_VGLUT1.csv')"
   ]
  },
  {
   "cell_type": "code",
   "execution_count": 9,
   "id": "af9de438-2d92-4906-94de-1dabb11155fb",
   "metadata": {},
   "outputs": [],
   "source": [
    "D_AMY_VGlut_mix =sc.read_h5ad('F:/single cell data/AMY/DR_AMY_VGLUT_mix.h5ad')"
   ]
  },
  {
   "cell_type": "code",
   "execution_count": 10,
   "id": "41bd78db-438f-49a4-a058-14c15af88957",
   "metadata": {},
   "outputs": [
    {
     "data": {
      "text/plain": [
       "AnnData object with n_obs × n_vars = 2369 × 22688\n",
       "    obs: 'n_genes', 'percent_mito', 'n_counts', 'doublet_score', 'Sample', 'Class', 'leiden_res_1.50', 'Subclass', 'leiden_res_0.10', 'leiden_res_0.15', 'leiden_res_0.30'\n",
       "    var: 'gene_ids', 'feature_types', 'n_cells-AMY_1', 'highly_variable-AMY_1', 'means-AMY_1', 'dispersions-AMY_1', 'dispersions_norm-AMY_1', 'n_cells-AMY_2', 'highly_variable-AMY_2', 'means-AMY_2', 'dispersions-AMY_2', 'dispersions_norm-AMY_2', 'highly_variable', 'means', 'dispersions', 'dispersions_norm'\n",
       "    uns: 'Class_colors', 'Sample_colors', 'Subclass_colors', 'dendrogram_leiden_res_1.50', 'dendrogram_leiden_res_2.50', 'hvg', 'leiden_res_0.10', 'leiden_res_0.10_colors', 'leiden_res_0.15', 'leiden_res_0.15_colors', 'leiden_res_0.30', 'leiden_res_0.30_colors', 'leiden_res_0.50', 'leiden_res_0.50_colors', 'leiden_res_0.80', 'leiden_res_0.80_colors', 'leiden_res_1.00', 'leiden_res_1.00_colors', 'leiden_res_1.50', 'leiden_res_1.50_colors', 'leiden_res_2.00', 'leiden_res_2.00_colors', 'leiden_res_2.50', 'leiden_res_2.50_colors', 'neighbors', 'pca', 'umap'\n",
       "    obsm: 'X_pca', 'X_umap'\n",
       "    varm: 'PCs'\n",
       "    layers: 'counts'\n",
       "    obsp: 'connectivities', 'distances'"
      ]
     },
     "execution_count": 10,
     "metadata": {},
     "output_type": "execute_result"
    }
   ],
   "source": [
    "D_AMY_VGlut_mix"
   ]
  },
  {
   "cell_type": "code",
   "execution_count": 11,
   "id": "252b7441-5e69-44c5-b86b-a35550687c55",
   "metadata": {},
   "outputs": [],
   "source": [
    "D_AMY_Gaba_leiden = D_AMY_.obs['leiden_res_0.30']\n",
    "D_AMY_Gaba_leiden.to_csv('DR_AMY_VGLUT_mix.csv')"
   ]
  },
  {
   "cell_type": "code",
   "execution_count": 12,
   "id": "e46dc245-b08d-4f44-a08b-58e182dd86b0",
   "metadata": {},
   "outputs": [
    {
     "data": {
      "text/plain": [
       "AnnData object with n_obs × n_vars = 5838 × 22688\n",
       "    obs: 'n_genes', 'percent_mito', 'n_counts', 'doublet_score', 'Sample', 'Class', 'leiden_res_0.80', 'leiden_res_1.00', 'leiden_res_1.50', 'Subclass'\n",
       "    var: 'gene_ids', 'feature_types', 'n_cells-AMY_1', 'highly_variable-AMY_1', 'means-AMY_1', 'dispersions-AMY_1', 'dispersions_norm-AMY_1', 'n_cells-AMY_2', 'highly_variable-AMY_2', 'means-AMY_2', 'dispersions-AMY_2', 'dispersions_norm-AMY_2', 'highly_variable', 'means', 'dispersions', 'dispersions_norm'\n",
       "    uns: 'Class_colors', 'Sample_colors', 'Subclass_colors', 'dendrogram_leiden_res_0.80', 'dendrogram_leiden_res_2.50', 'hvg', 'leiden_res_0.80', 'leiden_res_0.80_colors', 'leiden_res_1.00', 'leiden_res_1.00_colors', 'leiden_res_1.50', 'leiden_res_1.50_colors', 'leiden_res_2.00', 'leiden_res_2.00_colors', 'leiden_res_2.50', 'leiden_res_2.50_colors', 'neighbors', 'pca', 'umap'\n",
       "    obsm: 'X_pca', 'X_umap'\n",
       "    varm: 'PCs'\n",
       "    layers: 'counts'\n",
       "    obsp: 'connectivities', 'distances'"
      ]
     },
     "execution_count": 12,
     "metadata": {},
     "output_type": "execute_result"
    }
   ],
   "source": [
    "D_AMY_Gaba =sc.read_h5ad('F:/single cell data/AMY/DR_AMY_GABA.h5ad')\n",
    "D_AMY_Gaba"
   ]
  },
  {
   "cell_type": "code",
   "execution_count": 13,
   "id": "ccadd17b-713e-49a9-abe9-a9efc1648f38",
   "metadata": {},
   "outputs": [],
   "source": [
    "D_AMY_Gaba_leiden = D_AMY_Gaba.obs['leiden_res_0.80']\n",
    "D_AMY_Gaba_leiden.to_csv('DR_AMY_Gaba.csv')"
   ]
  },
  {
   "cell_type": "code",
   "execution_count": 14,
   "id": "f1ad28cb-3aa5-44b1-9460-5e1c376d63f0",
   "metadata": {},
   "outputs": [
    {
     "data": {
      "text/plain": [
       "AnnData object with n_obs × n_vars = 4066 × 22688\n",
       "    obs: 'n_genes', 'percent_mito', 'n_counts', 'doublet_score', 'Sample', 'Class', 'leiden_res_0.30', 'leiden_res_0.50'\n",
       "    var: 'gene_ids', 'feature_types', 'n_cells-AMY_1', 'highly_variable-AMY_1', 'means-AMY_1', 'dispersions-AMY_1', 'dispersions_norm-AMY_1', 'n_cells-AMY_2', 'highly_variable-AMY_2', 'means-AMY_2', 'dispersions-AMY_2', 'dispersions_norm-AMY_2', 'highly_variable', 'means', 'dispersions', 'dispersions_norm'\n",
       "    uns: 'Class_colors', 'Sample_colors', 'dendrogram_leiden_res_2.50', 'hvg', 'leiden_res_0.30', 'leiden_res_0.30_colors', 'leiden_res_0.50', 'leiden_res_0.50_colors', 'leiden_res_0.80', 'leiden_res_0.80_colors', 'leiden_res_1.00', 'leiden_res_1.00_colors', 'leiden_res_1.50', 'leiden_res_1.50_colors', 'leiden_res_2.00', 'leiden_res_2.00_colors', 'leiden_res_2.50', 'leiden_res_2.50_colors', 'neighbors', 'pca', 'umap'\n",
       "    obsm: 'X_pca', 'X_umap'\n",
       "    varm: 'PCs'\n",
       "    layers: 'counts'\n",
       "    obsp: 'connectivities', 'distances'"
      ]
     },
     "execution_count": 14,
     "metadata": {},
     "output_type": "execute_result"
    }
   ],
   "source": [
    "D_AMY_Non =sc.read_h5ad('F:/single cell data/AMY/DR_AMY_Non-Neuron.h5ad')\n",
    "D_AMY_Non"
   ]
  },
  {
   "cell_type": "code",
   "execution_count": 15,
   "id": "e70eab1f-1fb4-4904-aed4-c28c158cac5b",
   "metadata": {},
   "outputs": [],
   "source": [
    "D_AMY_Non_leiden = D_AMY_Non.obs['leiden_res_0.30']\n",
    "D_AMY_Non_leiden.to_csv('DR_AMY_Non.csv')"
   ]
  },
  {
   "cell_type": "code",
   "execution_count": null,
   "id": "e611952a-07bf-4703-9c7a-b671cc416747",
   "metadata": {},
   "outputs": [],
   "source": []
  }
 ],
 "metadata": {
  "kernelspec": {
   "display_name": "Python 3 (ipykernel)",
   "language": "python",
   "name": "python3"
  },
  "language_info": {
   "codemirror_mode": {
    "name": "ipython",
    "version": 3
   },
   "file_extension": ".py",
   "mimetype": "text/x-python",
   "name": "python",
   "nbconvert_exporter": "python",
   "pygments_lexer": "ipython3",
   "version": "3.10.10"
  }
 },
 "nbformat": 4,
 "nbformat_minor": 5
}
